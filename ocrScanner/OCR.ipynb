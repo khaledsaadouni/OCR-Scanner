{
 "cells": [
  {
   "cell_type": "markdown",
   "source": [
    "<h1> Import Libraries </h1>  "
   ],
   "metadata": {
    "collapsed": false
   },
   "id": "f666209c471a354f"
  },
  {
   "cell_type": "code",
   "execution_count": null,
   "id": "initial_id",
   "metadata": {
    "collapsed": true,
    "is_executing": true
   },
   "outputs": [],
   "source": [
    "!pip ArabicOcr\n",
    "import sys, fitz\n",
    "import cv2\n",
    "import matplotlib.pyplot as plt\n",
    "from ArabicOcr import arabicocr"
   ]
  },
  {
   "cell_type": "markdown",
   "source": [],
   "metadata": {
    "collapsed": false
   },
   "id": "2a62d4f03a1da31a"
  },
  {
   "cell_type": "code",
   "execution_count": null,
   "outputs": [],
   "source": [],
   "metadata": {
    "collapsed": false
   },
   "id": "9b52f840a7624a0e"
  }
 ],
 "metadata": {
  "kernelspec": {
   "display_name": "Python 3",
   "language": "python",
   "name": "python3"
  },
  "language_info": {
   "codemirror_mode": {
    "name": "ipython",
    "version": 2
   },
   "file_extension": ".py",
   "mimetype": "text/x-python",
   "name": "python",
   "nbconvert_exporter": "python",
   "pygments_lexer": "ipython2",
   "version": "2.7.6"
  }
 },
 "nbformat": 4,
 "nbformat_minor": 5
}
